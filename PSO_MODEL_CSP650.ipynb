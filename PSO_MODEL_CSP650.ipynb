{
  "nbformat": 4,
  "nbformat_minor": 0,
  "metadata": {
    "colab": {
      "provenance": []
    },
    "kernelspec": {
      "name": "python3",
      "display_name": "Python 3"
    },
    "language_info": {
      "name": "python"
    }
  },
  "cells": [
    {
      "cell_type": "markdown",
      "source": [
        "Source:"
      ],
      "metadata": {
        "id": "JYjVRupiWAQx"
      }
    },
    {
      "cell_type": "markdown",
      "source": [
        "FOCUS ON CAPACITY 16"
      ],
      "metadata": {
        "id": "UOwB7TmqmulS"
      }
    },
    {
      "cell_type": "code",
      "source": [
        "!pip install pyswarm"
      ],
      "metadata": {
        "colab": {
          "base_uri": "https://localhost:8080/"
        },
        "id": "EVvyH-d8cloJ",
        "outputId": "787269d2-e49a-420c-c4bb-660dcfe0a96a"
      },
      "execution_count": 1,
      "outputs": [
        {
          "output_type": "stream",
          "name": "stdout",
          "text": [
            "Collecting pyswarm\n",
            "  Downloading pyswarm-0.6.tar.gz (4.3 kB)\n",
            "  Preparing metadata (setup.py) ... \u001b[?25l\u001b[?25hdone\n",
            "Requirement already satisfied: numpy in /usr/local/lib/python3.10/dist-packages (from pyswarm) (1.22.4)\n",
            "Building wheels for collected packages: pyswarm\n",
            "  Building wheel for pyswarm (setup.py) ... \u001b[?25l\u001b[?25hdone\n",
            "  Created wheel for pyswarm: filename=pyswarm-0.6-py3-none-any.whl size=4463 sha256=a978ad7db550c7542ba284971475d05907742112fc2fc395be9d194f911485ff\n",
            "  Stored in directory: /root/.cache/pip/wheels/71/67/40/62fa158f497f942277cbab8199b05cb61c571ab324e67ad0d6\n",
            "Successfully built pyswarm\n",
            "Installing collected packages: pyswarm\n",
            "Successfully installed pyswarm-0.6\n"
          ]
        }
      ]
    },
    {
      "cell_type": "code",
      "execution_count": 2,
      "metadata": {
        "id": "mYxIe3Cwlw8l"
      },
      "outputs": [],
      "source": [
        "#import library\n",
        "import pandas as pd\n",
        "import numpy as np\n",
        "import math\n",
        "import random\n",
        "#for harvisine function -calculate distance\n",
        "from math import radians, cos, sin, asin, sqrt\n",
        "#for plotting\n",
        "import matplotlib.pyplot as plt"
      ]
    },
    {
      "cell_type": "code",
      "source": [
        "# Define the CVRP problem parameters\n",
        "num_customers = 51  # Number of customers (excluding depot)\n",
        "num_vehicles = 5  # Number of vehicles\n",
        "vehicle_capacity = 16  # Capacity of each vehicle"
      ],
      "metadata": {
        "id": "H4dh3NwbtOdy"
      },
      "execution_count": 3,
      "outputs": []
    },
    {
      "cell_type": "code",
      "source": [
        "# PSO parameters\n",
        "num_particles = 50 # Number of particles in the swarm\n",
        "max_iterations = 200  # Maximum number of iterations\n",
        "inertia_weight = 0.7  # Inertia weight\n",
        "cognitive_weight = 2.05 # Cognitive weight\n",
        "social_weight = 2.05 # Social weight"
      ],
      "metadata": {
        "id": "8cDFf9eEuWZb"
      },
      "execution_count": 4,
      "outputs": []
    },
    {
      "cell_type": "markdown",
      "source": [
        "Part 1: Read Dataset"
      ],
      "metadata": {
        "id": "o3aWyIvXN4WK"
      }
    },
    {
      "cell_type": "code",
      "source": [
        "# Read the dataset from CSV\n",
        "data = pd.read_csv('STESEN MINYAK KL_P.csv')\n",
        "data.head()\n"
      ],
      "metadata": {
        "id": "i-mFKUDfuZgh",
        "colab": {
          "base_uri": "https://localhost:8080/",
          "height": 206
        },
        "outputId": "abb0e46f-0a38-48cf-a663-5dea94b7828c"
      },
      "execution_count": 5,
      "outputs": [
        {
          "output_type": "execute_result",
          "data": {
            "text/plain": [
              "   index          city      lat     long  demand  vehicle_cap\n",
              "0      0  Kuala Lumpur  2.95980  101.662       0           16\n",
              "1      1  Kuala Lumpur  3.04885  101.680      15           16\n",
              "2      2  Kuala Lumpur  3.05643  101.704      10           16\n",
              "3      3  Kuala Lumpur  3.06578  101.663      11           16\n",
              "4      4  Kuala Lumpur  3.06669  101.656       7           16"
            ],
            "text/html": [
              "\n",
              "  <div id=\"df-c75b1dfd-f585-4f5a-95b5-fbc88da88d5a\">\n",
              "    <div class=\"colab-df-container\">\n",
              "      <div>\n",
              "<style scoped>\n",
              "    .dataframe tbody tr th:only-of-type {\n",
              "        vertical-align: middle;\n",
              "    }\n",
              "\n",
              "    .dataframe tbody tr th {\n",
              "        vertical-align: top;\n",
              "    }\n",
              "\n",
              "    .dataframe thead th {\n",
              "        text-align: right;\n",
              "    }\n",
              "</style>\n",
              "<table border=\"1\" class=\"dataframe\">\n",
              "  <thead>\n",
              "    <tr style=\"text-align: right;\">\n",
              "      <th></th>\n",
              "      <th>index</th>\n",
              "      <th>city</th>\n",
              "      <th>lat</th>\n",
              "      <th>long</th>\n",
              "      <th>demand</th>\n",
              "      <th>vehicle_cap</th>\n",
              "    </tr>\n",
              "  </thead>\n",
              "  <tbody>\n",
              "    <tr>\n",
              "      <th>0</th>\n",
              "      <td>0</td>\n",
              "      <td>Kuala Lumpur</td>\n",
              "      <td>2.95980</td>\n",
              "      <td>101.662</td>\n",
              "      <td>0</td>\n",
              "      <td>16</td>\n",
              "    </tr>\n",
              "    <tr>\n",
              "      <th>1</th>\n",
              "      <td>1</td>\n",
              "      <td>Kuala Lumpur</td>\n",
              "      <td>3.04885</td>\n",
              "      <td>101.680</td>\n",
              "      <td>15</td>\n",
              "      <td>16</td>\n",
              "    </tr>\n",
              "    <tr>\n",
              "      <th>2</th>\n",
              "      <td>2</td>\n",
              "      <td>Kuala Lumpur</td>\n",
              "      <td>3.05643</td>\n",
              "      <td>101.704</td>\n",
              "      <td>10</td>\n",
              "      <td>16</td>\n",
              "    </tr>\n",
              "    <tr>\n",
              "      <th>3</th>\n",
              "      <td>3</td>\n",
              "      <td>Kuala Lumpur</td>\n",
              "      <td>3.06578</td>\n",
              "      <td>101.663</td>\n",
              "      <td>11</td>\n",
              "      <td>16</td>\n",
              "    </tr>\n",
              "    <tr>\n",
              "      <th>4</th>\n",
              "      <td>4</td>\n",
              "      <td>Kuala Lumpur</td>\n",
              "      <td>3.06669</td>\n",
              "      <td>101.656</td>\n",
              "      <td>7</td>\n",
              "      <td>16</td>\n",
              "    </tr>\n",
              "  </tbody>\n",
              "</table>\n",
              "</div>\n",
              "      <button class=\"colab-df-convert\" onclick=\"convertToInteractive('df-c75b1dfd-f585-4f5a-95b5-fbc88da88d5a')\"\n",
              "              title=\"Convert this dataframe to an interactive table.\"\n",
              "              style=\"display:none;\">\n",
              "        \n",
              "  <svg xmlns=\"http://www.w3.org/2000/svg\" height=\"24px\"viewBox=\"0 0 24 24\"\n",
              "       width=\"24px\">\n",
              "    <path d=\"M0 0h24v24H0V0z\" fill=\"none\"/>\n",
              "    <path d=\"M18.56 5.44l.94 2.06.94-2.06 2.06-.94-2.06-.94-.94-2.06-.94 2.06-2.06.94zm-11 1L8.5 8.5l.94-2.06 2.06-.94-2.06-.94L8.5 2.5l-.94 2.06-2.06.94zm10 10l.94 2.06.94-2.06 2.06-.94-2.06-.94-.94-2.06-.94 2.06-2.06.94z\"/><path d=\"M17.41 7.96l-1.37-1.37c-.4-.4-.92-.59-1.43-.59-.52 0-1.04.2-1.43.59L10.3 9.45l-7.72 7.72c-.78.78-.78 2.05 0 2.83L4 21.41c.39.39.9.59 1.41.59.51 0 1.02-.2 1.41-.59l7.78-7.78 2.81-2.81c.8-.78.8-2.07 0-2.86zM5.41 20L4 18.59l7.72-7.72 1.47 1.35L5.41 20z\"/>\n",
              "  </svg>\n",
              "      </button>\n",
              "      \n",
              "  <style>\n",
              "    .colab-df-container {\n",
              "      display:flex;\n",
              "      flex-wrap:wrap;\n",
              "      gap: 12px;\n",
              "    }\n",
              "\n",
              "    .colab-df-convert {\n",
              "      background-color: #E8F0FE;\n",
              "      border: none;\n",
              "      border-radius: 50%;\n",
              "      cursor: pointer;\n",
              "      display: none;\n",
              "      fill: #1967D2;\n",
              "      height: 32px;\n",
              "      padding: 0 0 0 0;\n",
              "      width: 32px;\n",
              "    }\n",
              "\n",
              "    .colab-df-convert:hover {\n",
              "      background-color: #E2EBFA;\n",
              "      box-shadow: 0px 1px 2px rgba(60, 64, 67, 0.3), 0px 1px 3px 1px rgba(60, 64, 67, 0.15);\n",
              "      fill: #174EA6;\n",
              "    }\n",
              "\n",
              "    [theme=dark] .colab-df-convert {\n",
              "      background-color: #3B4455;\n",
              "      fill: #D2E3FC;\n",
              "    }\n",
              "\n",
              "    [theme=dark] .colab-df-convert:hover {\n",
              "      background-color: #434B5C;\n",
              "      box-shadow: 0px 1px 3px 1px rgba(0, 0, 0, 0.15);\n",
              "      filter: drop-shadow(0px 1px 2px rgba(0, 0, 0, 0.3));\n",
              "      fill: #FFFFFF;\n",
              "    }\n",
              "  </style>\n",
              "\n",
              "      <script>\n",
              "        const buttonEl =\n",
              "          document.querySelector('#df-c75b1dfd-f585-4f5a-95b5-fbc88da88d5a button.colab-df-convert');\n",
              "        buttonEl.style.display =\n",
              "          google.colab.kernel.accessAllowed ? 'block' : 'none';\n",
              "\n",
              "        async function convertToInteractive(key) {\n",
              "          const element = document.querySelector('#df-c75b1dfd-f585-4f5a-95b5-fbc88da88d5a');\n",
              "          const dataTable =\n",
              "            await google.colab.kernel.invokeFunction('convertToInteractive',\n",
              "                                                     [key], {});\n",
              "          if (!dataTable) return;\n",
              "\n",
              "          const docLinkHtml = 'Like what you see? Visit the ' +\n",
              "            '<a target=\"_blank\" href=https://colab.research.google.com/notebooks/data_table.ipynb>data table notebook</a>'\n",
              "            + ' to learn more about interactive tables.';\n",
              "          element.innerHTML = '';\n",
              "          dataTable['output_type'] = 'display_data';\n",
              "          await google.colab.output.renderOutput(dataTable, element);\n",
              "          const docLink = document.createElement('div');\n",
              "          docLink.innerHTML = docLinkHtml;\n",
              "          element.appendChild(docLink);\n",
              "        }\n",
              "      </script>\n",
              "    </div>\n",
              "  </div>\n",
              "  "
            ]
          },
          "metadata": {},
          "execution_count": 5
        }
      ]
    },
    {
      "cell_type": "code",
      "source": [
        "# Extract the coordinates, demands, and vehicle capacity\n",
        "coordinates = data[['lat', 'long']].values[:num_customers + 1]  # Include depot as the first customer\n",
        "demands = data['demand'].values[:num_customers]\n",
        "vehicle_capacities = np.full(num_vehicles, vehicle_capacity)\n"
      ],
      "metadata": {
        "id": "Es_VVop8ub0h"
      },
      "execution_count": 6,
      "outputs": []
    },
    {
      "cell_type": "code",
      "source": [
        "# define the Haversine formula to calculate the distance between two points\n",
        "def haversine(lat1, lon1, lat2, lon2):\n",
        "    R = 6371  # radius of the Earth in km\n",
        "    lat1, lon1, lat2, lon2 = map(radians, [lat1, lon1, lat2, lon2])\n",
        "    dlat = lat2 - lat1\n",
        "    dlon = lon2 - lon1\n",
        "    a = sin(dlat / 2) ** 2 + cos(lat1) * cos(lat2) * sin(dlon / 2) ** 2\n",
        "    c = 2 * asin(sqrt(a))\n",
        "    return R * c\n",
        "\n",
        "# calculate the distance matrix for the points using the Haversine formula\n",
        "distance_matrix = np.zeros(shape=(len(coordinates), len(coordinates)), dtype=float)\n",
        "for i in range(len(coordinates)):\n",
        "    for j in range(len(coordinates)):\n",
        "        distance_matrix[i][j] = haversine(coordinates[i][0], coordinates[i][1],coordinates[j][0], coordinates[j][1])\n",
        "\n",
        "print(distance_matrix)"
      ],
      "metadata": {
        "colab": {
          "base_uri": "https://localhost:8080/"
        },
        "id": "6lIbFsYec_QV",
        "outputId": "0e819def-b09c-4d23-a175-33c5972d8657"
      },
      "execution_count": 7,
      "outputs": [
        {
          "output_type": "stream",
          "name": "stdout",
          "text": [
            "[[ 0.         10.10162453 11.71326462 ... 29.56603256 30.41708417\n",
            "  30.03857492]\n",
            " [10.10162453  0.          2.79500543 ... 20.07651663 20.33278341\n",
            "  20.36793443]\n",
            " [11.71326462  2.79500543  0.         ... 20.05430901 18.95293159\n",
            "  20.14745823]\n",
            " ...\n",
            " [29.56603256 20.07651663 20.05430901 ...  0.          9.99176737\n",
            "   1.44443894]\n",
            " [30.41708417 20.33278341 18.95293159 ...  9.99176737  0.\n",
            "   8.67507083]\n",
            " [30.03857492 20.36793443 20.14745823 ...  1.44443894  8.67507083\n",
            "   0.        ]]\n"
          ]
        }
      ]
    },
    {
      "cell_type": "code",
      "source": [
        "# Define the Particle class\n",
        "class Particle:\n",
        "    def __init__(self, position):\n",
        "        self.position = position\n",
        "        self.velocity = np.zeros_like(position)\n",
        "        self.personal_best_position = np.copy(position)\n",
        "        self.personal_best_fitness = float('inf')"
      ],
      "metadata": {
        "id": "k6iOXVPcujjO"
      },
      "execution_count": 8,
      "outputs": []
    },
    {
      "cell_type": "code",
      "source": [
        "# Initialize the swarm\n",
        "swarm = []\n",
        "for _ in range(num_particles):\n",
        "    position = np.random.permutation(num_customers) + 1  # Generate a random permutation of customers\n",
        "    particle = Particle(position)\n",
        "    swarm.append(particle)"
      ],
      "metadata": {
        "id": "9X7mRzGPgKV9"
      },
      "execution_count": 9,
      "outputs": []
    },
    {
      "cell_type": "code",
      "source": [
        "# Initialize the global best position and fitness\n",
        "global_best_position = 0\n",
        "global_best_fitness = float('inf')\n"
      ],
      "metadata": {
        "id": "_CN_O0EQgL_w"
      },
      "execution_count": 10,
      "outputs": []
    },
    {
      "cell_type": "code",
      "source": [
        "# Calculate the fitness value for a particle's position\n",
        "\n",
        "def calculate_fitness(position,distance):\n",
        "    total_distance = 0\n",
        "\n",
        "    remaining_capacities = np.copy(vehicle_capacities)\n",
        "    current_location = 0  # Start at the depot\n",
        "    for customer in position:\n",
        "        distance = distance[current_location][customer]\n",
        "        total_distance += distance\n",
        "        remaining_capacities -= demands[customer - 1]  # Subtract the demand of the customer\n",
        "        current_location = customer\n",
        "    distance_back_to_depot = distance[current_location][0]  # Return to the depot\n",
        "    total_distance += distance_back_to_depot\n",
        "    max_capacity_violation = np.max(remaining_capacities)\n",
        "    fitness = total_distance + max_capacity_violation  # Objective function combining distance and capacity violation\n",
        "\n",
        "    return (distance)"
      ],
      "metadata": {
        "id": "wgOY1zoBgTtI"
      },
      "execution_count": 11,
      "outputs": []
    },
    {
      "cell_type": "code",
      "source": [
        "# Retrieve the best solution found by PSO\n",
        "best_position = global_best_position\n",
        "\n",
        "# Calculate total distance traveled and capacity utilization\n",
        "if best_position != 0:\n",
        "  total_distance = calculate_fitness(best_position)\n",
        "  capacity_utilization = 1 - (total_distance - num_customers) / (num_customers * vehicle_capacity)\n",
        "\n",
        "# Print the outputs\n",
        "  print(\"Minimum Total Distance Traveled:\", total_distance)\n",
        "  print(\"Maximum Capacity Utilization:\", capacity_utilization)\n",
        "\n",
        "# Obtain the routing plan for each vehicle\n",
        "  vehicle_routes = [[] for _ in range(num_vehicles)]\n",
        "  current_location = 0  # Start at the depot\n",
        "  for customer in best_position:\n",
        "     if customer == 0:  # Reached the depot, move to the next vehicle\n",
        "        current_location = 0\n",
        "     else:\n",
        "        vehicle_routes[current_location].append(customer)\n",
        "        current_location = customer\n",
        "\n",
        "# Print the routing plan for each vehicle\n",
        "  for i, route in enumerate(vehicle_routes):\n",
        "    print(\"Vehicle\", i+1, \":\", route)\n",
        "\n",
        "else:\n",
        "  print(\"no solution found\")\n"
      ],
      "metadata": {
        "id": "IYKZn6D0a__d",
        "colab": {
          "base_uri": "https://localhost:8080/"
        },
        "outputId": "377029cd-4509-4c98-dc76-cf5a7ada6e8d"
      },
      "execution_count": 12,
      "outputs": [
        {
          "output_type": "stream",
          "name": "stdout",
          "text": [
            "no solution found\n"
          ]
        }
      ]
    },
    {
      "cell_type": "code",
      "source": [
        "distance=[]\n",
        "import matplotlib.pyplot as plt\n",
        "\n",
        "\n",
        "# Initialize a list to track the global best fitness value at each iteration\n",
        "global_best_fitness_history = []\n",
        "\n",
        "# Initialize global best position\n",
        "global_best_position = 0\n",
        "\n",
        "# Initialize the PSO algorithm\n",
        "for iteration in range(max_iterations):\n",
        "    # Update the velocity and position of each particle\n",
        "    for particle in swarm:\n",
        "        # Update particle velocity\n",
        "        particle.velocity = (inertia_weight * particle.velocity +\n",
        "                              cognitive_weight * random.random() * (particle.personal_best_position - particle.position) +\n",
        "                              social_weight * random.random() * (global_best_position - particle.position))\n",
        "\n",
        "        # Update particle position\n",
        "        particle.position = np.clip(particle.position + particle.velocity, 1, num_customers)  # Ensure valid positions\n",
        "\n",
        "        # Update particle personal best position and fitness\n",
        "        particle_fitness = calculate_fitness(particle.position,distance)\n",
        "          if particle_fitness < particle.personal_best_fitness:\n",
        "             particle.personal_best_position = np.copy(particle.position)\n",
        "             particle.personal_best_fitness = particle_fitness\n",
        "\n",
        "        # Update the global best position and fitness\n",
        "          if global_best_position is None or particle_fitness < objective_function(global_best_position):\n",
        "            global_best_position = np.copy(particle.personal_best_position)\n",
        "\n",
        "    # Track the global best fitness at each iteration\n",
        "    global_best_fitness = calculate_fitness(global_best_position)\n",
        "    global_best_fitness_history.append(global_best_fitness)\n",
        "\n",
        "# Plot the convergence\n",
        "plt.plot(range(max_iterations), global_best_fitness_history)\n",
        "plt.xlabel('Iteration')\n",
        "plt.ylabel('Global Best Fitness')\n",
        "plt.title('PSO Convergence')\n",
        "plt.show()"
      ],
      "metadata": {
        "colab": {
          "base_uri": "https://localhost:8080/",
          "height": 130
        },
        "id": "12khWfpD4AbC",
        "outputId": "9222f3fe-f808-4f13-de54-e40d2a7b1439"
      },
      "execution_count": 14,
      "outputs": [
        {
          "output_type": "error",
          "ename": "IndentationError",
          "evalue": "ignored",
          "traceback": [
            "\u001b[0;36m  File \u001b[0;32m\"<tokenize>\"\u001b[0;36m, line \u001b[0;32m24\u001b[0m\n\u001b[0;31m    particle_fitness = calculate_fitness(particle.position,distance)\u001b[0m\n\u001b[0m    ^\u001b[0m\n\u001b[0;31mIndentationError\u001b[0m\u001b[0;31m:\u001b[0m unindent does not match any outer indentation level\n"
          ]
        }
      ]
    }
  ]
}